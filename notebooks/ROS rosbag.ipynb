{
 "cells": [
  {
   "cell_type": "code",
   "execution_count": null,
   "metadata": {},
   "outputs": [],
   "source": [
    "from jupyros import RosBag\n",
    "\n",
    "bag = RosBag('bags/pallet.bag')\n",
    "#bag.__help__()\n",
    "#bag.show_types()\n",
    "#bag.show_topics()\n",
    "bag.play()"
   ]
  },
  {
   "cell_type": "code",
   "execution_count": null,
   "metadata": {},
   "outputs": [],
   "source": [
    "bag"
   ]
  },
  {
   "cell_type": "code",
   "execution_count": null,
   "metadata": {},
   "outputs": [],
   "source": [
    "import time\n",
    "import subprocess\n",
    "\n",
    "topics = ' '.join(['/amcl_pose', '/hokuyo_back_scan', '/diff_drive/move_base/global_costmap/costmap', '/diff_drive/move_base/TebLocalPlannerROS/global_plan', '/diff_drive/move_base/global_costmap/footprint', '/hokuyo_front_scan', '/rosout_agg', '/pallet_clusters', '/particlecloud', '/pallet_detections', '/diff_drive/move_base/current_goal', '/diff_drive/move_base/GlobalPlanner/potential', '/diagnostics', '/tricycle_drive_controller/ackermann_cmd', '/diff_drive/move_base/feedback', '/diff_drive/move_base_simple/goal', '/diff_drive/move_base/global_costmap/obstacle_layer/clearing_endpoints', '/joint_states', '/rosout', '/diff_drive/move_base/goal', '/pallet_detections_infront', '/diff_drive/move_base/local_costmap/costmap', '/diff_drive/move_base/GlobalPlanner/plan', '/tricycle_drive_controller/odom', '/diff_drive/move_base/result', '/diff_drive/move_base/status', '/diff_drive/move_base/TebLocalPlannerROS/teb_markers', '/diff_drive/cmd_vel', '/diff_drive/move_base/local_costmap/footprint', '/diff_drive/move_base/TebLocalPlannerROS/teb_poses', '/tf', '/diff_drive/move_base/TebLocalPlannerROS/local_plan'])\n",
    "cmd = ' '.join(['rosbag', 'play', '--pause', '--topics', topics, '--bags=bags/pallet.bag'])\n",
    "#cmd = ['rosbag', 'play', '--pause', '--topics', topics, '--bags=bags/pallet.bag']\n",
    "print(cmd)\n",
    "proc = subprocess.Popen(cmd, stdin=subprocess.PIPE, shell=True)#, stdout=subprocess.PIPE, stderr=subprocess.PIPE, shell=True)\n",
    "\n",
    "print(\"sleep\")\n",
    "time.sleep(2)\n",
    "\n",
    "print(\"play\")\n",
    "proc.stdin.write(b' \\n')\n",
    "proc.stdin.flush()\n",
    "\n",
    "#out, err = proc.communicate(b' \\n')\n",
    "#print(out)\n",
    "#print(err)"
   ]
  },
  {
   "cell_type": "code",
   "execution_count": null,
   "metadata": {},
   "outputs": [],
   "source": []
  }
 ],
 "metadata": {
  "kernelspec": {
   "display_name": "ROS Jupyter",
   "language": "python",
   "name": "ros_python"
  },
  "language_info": {
   "codemirror_mode": {
    "name": "ipython",
    "version": 3
   },
   "file_extension": ".py",
   "mimetype": "text/x-python",
   "name": "python",
   "nbconvert_exporter": "python",
   "pygments_lexer": "ipython3",
   "version": "3.6.10"
  }
 },
 "nbformat": 4,
 "nbformat_minor": 4
}
